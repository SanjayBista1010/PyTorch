{
  "nbformat": 4,
  "nbformat_minor": 0,
  "metadata": {
    "colab": {
      "provenance": [],
      "gpuType": "T4",
      "authorship_tag": "ABX9TyMmEmZz/VqsmJm4B61TM5O/",
      "include_colab_link": true
    },
    "kernelspec": {
      "name": "python3",
      "display_name": "Python 3"
    },
    "language_info": {
      "name": "python"
    },
    "accelerator": "GPU"
  },
  "cells": [
    {
      "cell_type": "markdown",
      "metadata": {
        "id": "view-in-github",
        "colab_type": "text"
      },
      "source": [
        "<a href=\"https://colab.research.google.com/github/SanjayBista1010/PyTorch/blob/main/TorchTensor101.ipynb\" target=\"_parent\"><img src=\"https://colab.research.google.com/assets/colab-badge.svg\" alt=\"Open In Colab\"/></a>"
      ]
    },
    {
      "cell_type": "code",
      "execution_count": null,
      "metadata": {
        "colab": {
          "base_uri": "https://localhost:8080/"
        },
        "id": "Qaa0pxj9aCce",
        "outputId": "c320e451-af5d-47ce-e51a-03b30c2b0eca"
      },
      "outputs": [
        {
          "output_type": "stream",
          "name": "stdout",
          "text": [
            "tensor([[0.7255, 0.2751, 0.3811],\n",
            "        [0.7604, 0.8149, 0.2509],\n",
            "        [0.2505, 0.7476, 0.1903]])\n"
          ]
        }
      ],
      "source": [
        "import torch\n",
        "\n",
        "x= torch.rand(3,3)\n",
        "print(x)"
      ]
    },
    {
      "cell_type": "code",
      "source": [
        "torch.cuda.is_available()"
      ],
      "metadata": {
        "colab": {
          "base_uri": "https://localhost:8080/"
        },
        "id": "xQFMk_m1aq9Y",
        "outputId": "a98d8a04-cc7c-40f8-ec3e-69d97a2ca2e3"
      },
      "execution_count": null,
      "outputs": [
        {
          "output_type": "execute_result",
          "data": {
            "text/plain": [
              "True"
            ]
          },
          "metadata": {},
          "execution_count": 2
        }
      ]
    },
    {
      "cell_type": "code",
      "source": [
        "x =torch.empty(2,2)\n",
        "x\n",
        "#1.2030e-29\n",
        "0.0000e+00"
      ],
      "metadata": {
        "colab": {
          "base_uri": "https://localhost:8080/"
        },
        "id": "sXoMXO_tcbV2",
        "outputId": "d537aef7-1356-42f9-e015-5152ccf195ec"
      },
      "execution_count": null,
      "outputs": [
        {
          "output_type": "execute_result",
          "data": {
            "text/plain": [
              "tensor([[0.0000e+00, 1.2030e-29],\n",
              "        [0.0000e+00, 0.0000e+00]])"
            ]
          },
          "metadata": {},
          "execution_count": 23
        }
      ]
    },
    {
      "cell_type": "code",
      "source": [
        "z =torch.zeros(3,3)\n",
        "z"
      ],
      "metadata": {
        "colab": {
          "base_uri": "https://localhost:8080/"
        },
        "id": "dE04YyekchUw",
        "outputId": "958a6404-dada-4b43-9b18-7c64da5de7f3"
      },
      "execution_count": null,
      "outputs": [
        {
          "output_type": "execute_result",
          "data": {
            "text/plain": [
              "tensor([[0., 0., 0.],\n",
              "        [0., 0., 0.],\n",
              "        [0., 0., 0.]])"
            ]
          },
          "metadata": {},
          "execution_count": 6
        }
      ]
    },
    {
      "cell_type": "code",
      "source": [
        "a =torch.ones(3,4)\n",
        "a"
      ],
      "metadata": {
        "colab": {
          "base_uri": "https://localhost:8080/"
        },
        "id": "hR1oTs4KcoB8",
        "outputId": "dc2c6447-4ed5-41b3-93fa-7b3e7e959d31"
      },
      "execution_count": null,
      "outputs": [
        {
          "output_type": "execute_result",
          "data": {
            "text/plain": [
              "tensor([[1., 1., 1., 1.],\n",
              "        [1., 1., 1., 1.],\n",
              "        [1., 1., 1., 1.]])"
            ]
          },
          "metadata": {},
          "execution_count": 9
        }
      ]
    },
    {
      "cell_type": "code",
      "source": [
        "import numpy as np\n",
        "a= np.array([[1,1,2,2],[3,3,4,4]])\n",
        "a"
      ],
      "metadata": {
        "colab": {
          "base_uri": "https://localhost:8080/"
        },
        "id": "4NHY7GAadAG-",
        "outputId": "624a4335-b0fb-4c66-df28-325b2d3677a4"
      },
      "execution_count": null,
      "outputs": [
        {
          "output_type": "execute_result",
          "data": {
            "text/plain": [
              "array([[1, 1, 2, 2],\n",
              "       [3, 3, 4, 4]])"
            ]
          },
          "metadata": {},
          "execution_count": 17
        }
      ]
    },
    {
      "cell_type": "code",
      "source": [
        "b= np.array([[1,2],[3,4]], dtype=float)\n",
        "b.dtype"
      ],
      "metadata": {
        "colab": {
          "base_uri": "https://localhost:8080/"
        },
        "id": "fHI_JY2ke7id",
        "outputId": "0d6bf766-39e5-4a36-e2d3-10cf28d4b208"
      },
      "execution_count": null,
      "outputs": [
        {
          "output_type": "execute_result",
          "data": {
            "text/plain": [
              "dtype('float64')"
            ]
          },
          "metadata": {},
          "execution_count": 18
        }
      ]
    },
    {
      "cell_type": "code",
      "source": [
        "b = torch.tensor([[1,2],[3,4]])\n",
        "b"
      ],
      "metadata": {
        "colab": {
          "base_uri": "https://localhost:8080/"
        },
        "id": "AvofF9-od9ng",
        "outputId": "698b81bb-2d4b-480e-a549-03aed14586c8"
      },
      "execution_count": null,
      "outputs": [
        {
          "output_type": "execute_result",
          "data": {
            "text/plain": [
              "tensor([[1, 2],\n",
              "        [3, 4]])"
            ]
          },
          "metadata": {},
          "execution_count": 13
        }
      ]
    },
    {
      "cell_type": "code",
      "source": [
        "#properties of torch\n",
        "\n",
        "print(b.size())\n",
        "print(b.dtype)\n",
        "print(b.device)"
      ],
      "metadata": {
        "colab": {
          "base_uri": "https://localhost:8080/"
        },
        "id": "ShkPReYOeMgJ",
        "outputId": "ca736fa6-79b9-44e6-ddc3-202a484f5ad5"
      },
      "execution_count": null,
      "outputs": [
        {
          "output_type": "stream",
          "name": "stdout",
          "text": [
            "torch.Size([2, 2])\n",
            "torch.int64\n",
            "cpu\n"
          ]
        }
      ]
    },
    {
      "cell_type": "code",
      "source": [
        "b = torch.tensor([[1,2],[3,4]], dtype=torch.float32)\n",
        "b"
      ],
      "metadata": {
        "colab": {
          "base_uri": "https://localhost:8080/"
        },
        "id": "E1Ppg8noeOds",
        "outputId": "110f3ae2-2aa3-44d8-dc64-3662f64a77ec"
      },
      "execution_count": null,
      "outputs": [
        {
          "output_type": "execute_result",
          "data": {
            "text/plain": [
              "tensor([[1., 2.],\n",
              "        [3., 4.]])"
            ]
          },
          "metadata": {},
          "execution_count": 22
        }
      ]
    },
    {
      "cell_type": "code",
      "source": [
        "print(x[:,1])"
      ],
      "metadata": {
        "colab": {
          "base_uri": "https://localhost:8080/"
        },
        "id": "KX4fymI-fvX1",
        "outputId": "2ddff6d6-a9e3-42f8-c368-1326c3f74eb9"
      },
      "execution_count": null,
      "outputs": [
        {
          "output_type": "stream",
          "name": "stdout",
          "text": [
            "tensor([1.2030e-29, 0.0000e+00])\n"
          ]
        }
      ]
    },
    {
      "cell_type": "code",
      "source": [
        "#reshape\n",
        "z= torch.arange(1,10)\n",
        "z= z.view(3,3) #reshape\n",
        "z"
      ],
      "metadata": {
        "colab": {
          "base_uri": "https://localhost:8080/"
        },
        "id": "1EuVAkMiiQUY",
        "outputId": "813a3f48-a5b1-46f8-b769-ec33c6aaac19"
      },
      "execution_count": null,
      "outputs": [
        {
          "output_type": "execute_result",
          "data": {
            "text/plain": [
              "tensor([[1, 2, 3],\n",
              "        [4, 5, 6],\n",
              "        [7, 8, 9]])"
            ]
          },
          "metadata": {},
          "execution_count": 25
        }
      ]
    },
    {
      "cell_type": "code",
      "source": [
        "if torch.cuda.is_available():\n",
        "  tensor_gpu = b.to('cuda')\n",
        "  print(tensor_gpu)"
      ],
      "metadata": {
        "colab": {
          "base_uri": "https://localhost:8080/"
        },
        "id": "rphUiI8gitAs",
        "outputId": "290d2f69-4155-4638-cf96-ac856ad57b78"
      },
      "execution_count": null,
      "outputs": [
        {
          "output_type": "stream",
          "name": "stdout",
          "text": [
            "tensor([[1., 2.],\n",
            "        [3., 4.]], device='cuda:0')\n"
          ]
        }
      ]
    },
    {
      "cell_type": "code",
      "source": [
        "tensor_gpu.device"
      ],
      "metadata": {
        "colab": {
          "base_uri": "https://localhost:8080/"
        },
        "id": "DX128_MPjZ4j",
        "outputId": "be46e883-b6ba-43d9-91c9-7e03e4f785b2"
      },
      "execution_count": null,
      "outputs": [
        {
          "output_type": "execute_result",
          "data": {
            "text/plain": [
              "device(type='cuda', index=0)"
            ]
          },
          "metadata": {},
          "execution_count": 29
        }
      ]
    },
    {
      "cell_type": "code",
      "source": [
        "b = torch.tensor([[1,2,3],[4,5,6]], device='cuda') #can write cuda:0 for slot specification\n",
        "b.device"
      ],
      "metadata": {
        "colab": {
          "base_uri": "https://localhost:8080/"
        },
        "id": "rvIbJfxbjqsQ",
        "outputId": "e98d48d1-fd30-4598-cd47-ac0294f6b847"
      },
      "execution_count": null,
      "outputs": [
        {
          "output_type": "execute_result",
          "data": {
            "text/plain": [
              "device(type='cuda', index=0)"
            ]
          },
          "metadata": {},
          "execution_count": 31
        }
      ]
    },
    {
      "cell_type": "code",
      "source": [
        "x = torch.tensor([[10,20,30],\n",
        "                  [40,50,60],\n",
        "                  [80,90,100]])\n",
        "\n",
        "print(x[0])\n",
        "print(x[1,2])\n",
        "print(x[-1])"
      ],
      "metadata": {
        "colab": {
          "base_uri": "https://localhost:8080/"
        },
        "id": "uQZwDjbzlla7",
        "outputId": "c16ba04b-969d-443a-f1a0-6e127dc58a26"
      },
      "execution_count": null,
      "outputs": [
        {
          "output_type": "stream",
          "name": "stdout",
          "text": [
            "tensor([10, 20, 30])\n",
            "tensor(60)\n",
            "tensor([ 80,  90, 100])\n"
          ]
        }
      ]
    },
    {
      "cell_type": "code",
      "source": [
        "print(x[:,0])\n",
        "print(x[0:2,:])\n",
        "print(x[:,1:])\n",
        "print(x[::2,::2])"
      ],
      "metadata": {
        "colab": {
          "base_uri": "https://localhost:8080/"
        },
        "id": "9Fa-iXfXl3FW",
        "outputId": "30ce6a94-64e6-4289-f9eb-3e379ac093ee"
      },
      "execution_count": null,
      "outputs": [
        {
          "output_type": "stream",
          "name": "stdout",
          "text": [
            "tensor([10, 40, 80])\n",
            "tensor([[10, 20, 30],\n",
            "        [40, 50, 60]])\n",
            "tensor([[ 20,  30],\n",
            "        [ 50,  60],\n",
            "        [ 90, 100]])\n",
            "tensor([[ 10,  30],\n",
            "        [ 80, 100]])\n"
          ]
        }
      ]
    },
    {
      "cell_type": "code",
      "source": [
        "# fancy indexing\n",
        "\n",
        "rows =torch.tensor([0,2])\n",
        "cols =torch.tensor([1,2])\n",
        "print(x[rows,cols])  #(0,1) and (2,2) position selected"
      ],
      "metadata": {
        "colab": {
          "base_uri": "https://localhost:8080/"
        },
        "id": "5Dtrzai9mMc0",
        "outputId": "8a4ff504-f0b5-4a43-cf95-5d74fa066f97"
      },
      "execution_count": null,
      "outputs": [
        {
          "output_type": "stream",
          "name": "stdout",
          "text": [
            "tensor([ 20, 100])\n"
          ]
        }
      ]
    },
    {
      "cell_type": "code",
      "source": [
        "#boolean mask\n",
        "\n",
        "mask = x >50\n",
        "\n",
        "print(mask)\n",
        "print(x[mask])"
      ],
      "metadata": {
        "colab": {
          "base_uri": "https://localhost:8080/"
        },
        "id": "MI7QvGPFopnh",
        "outputId": "17a4d4c6-a333-414f-9d91-93075d10d5af"
      },
      "execution_count": null,
      "outputs": [
        {
          "output_type": "stream",
          "name": "stdout",
          "text": [
            "tensor([[False, False, False],\n",
            "        [False, False,  True],\n",
            "        [ True,  True,  True]])\n",
            "tensor([ 60,  80,  90, 100])\n"
          ]
        }
      ]
    },
    {
      "cell_type": "code",
      "source": [
        "x[0,0] =1\n",
        "\n",
        "x[:,1] = torch.tensor([111,222,333])\n",
        "\n",
        "print(x)"
      ],
      "metadata": {
        "colab": {
          "base_uri": "https://localhost:8080/"
        },
        "id": "ctw5NUb7pRml",
        "outputId": "52c8d159-482c-4769-8857-e0cb35f208cf"
      },
      "execution_count": null,
      "outputs": [
        {
          "output_type": "stream",
          "name": "stdout",
          "text": [
            "tensor([[  1, 111,  30],\n",
            "        [ 40, 222,  60],\n",
            "        [ 80, 333, 100]])\n"
          ]
        }
      ]
    },
    {
      "cell_type": "code",
      "source": [
        "import time\n",
        "\n",
        "a= np.random.rand(5000,5000)\n",
        "start = time.time()\n",
        "np.dot(a,a)\n",
        "print('Numpy time:', time.time() - start)\n",
        "\n",
        "a_t = torch.rand(5000,5000, device='cuda')\n",
        "torch.cuda.synchronize()\n",
        "start = time.time()\n",
        "torch.matmul(a_t,a_t)\n",
        "torch.cuda.synchronize()\n",
        "print('PyTorch GPU time:', time.time() - start)"
      ],
      "metadata": {
        "colab": {
          "base_uri": "https://localhost:8080/"
        },
        "id": "XFw--Jm6rhR_",
        "outputId": "0d22d650-6661-4028-f05c-2697973d1756"
      },
      "execution_count": null,
      "outputs": [
        {
          "output_type": "stream",
          "name": "stdout",
          "text": [
            "Numpy time: 6.513540506362915\n",
            "PyTorch GPU time: 0.347609281539917\n"
          ]
        }
      ]
    }
  ]
}